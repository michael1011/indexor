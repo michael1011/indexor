{
 "cells": [
  {
   "cell_type": "code",
   "execution_count": null,
   "outputs": [],
   "source": [
    "import matplotlib.pyplot as plt\n",
    "import pandas as pd\n",
    "import seaborn as sns\n",
    "import sqlalchemy as sqla\n",
    "\n",
    "engine = sqla.create_engine(sqla.URL.create(\n",
    "    drivername=\"postgresql+psycopg2\",\n",
    "    host=\"127.0.0.1\",\n",
    "    username=\"indexor\",\n",
    "    password=\"indexor\",\n",
    "    database=\"indexor\",\n",
    "))\n",
    "\n",
    "con = engine.connect()\n",
    "\n",
    "figsize = (15, 12)\n",
    "\n",
    "def set_legend(title: str):\n",
    "    plt.legend(title=title, bbox_to_anchor=(1, 1))\n",
    "\n",
    "def set_x_axis_legend():\n",
    "    plt.locator_params(axis='x', nbins=20)\n",
    "    plt.xticks(rotation=45)"
   ],
   "metadata": {
    "collapsed": false
   }
  },
  {
   "cell_type": "markdown",
   "source": [
    "# Blocks"
   ],
   "metadata": {
    "collapsed": false
   }
  },
  {
   "cell_type": "markdown",
   "source": [
    "## Coinbase rewards"
   ],
   "metadata": {
    "collapsed": false
   }
  },
  {
   "cell_type": "code",
   "execution_count": null,
   "outputs": [],
   "source": [
    "def block_reward(block_height):\n",
    "    halving_interval = 210_000\n",
    "    initial_reward = 50\n",
    "\n",
    "    halvings = block_height // halving_interval\n",
    "\n",
    "    if halvings >= 64:\n",
    "        return 0\n",
    "\n",
    "    return initial_reward / (2 ** halvings)\n",
    "\n",
    "\n",
    "def show_coinbase():\n",
    "    coinbase = pd.read_sql_query(sqla.text(\"\"\"\n",
    "SELECT\n",
    "    b.height AS height,\n",
    "    SUM(o.value) / POW(10, 8) AS coinbase\n",
    "FROM transactions t\n",
    "    INNER JOIN blocks b ON t.block = b.id\n",
    "    INNER JOIN inputs i ON t.id = i.tx\n",
    "    INNER JOIN outputs o ON t.id = o.tx\n",
    "WHERE tx_in IS NULL\n",
    "GROUP BY (b.height)\n",
    "ORDER BY height;\n",
    "    \"\"\"), con)\n",
    "\n",
    "    coinbase[\"rewards\"] = coinbase.apply(lambda row: block_reward(row[\"height\"]), axis=1)\n",
    "    coinbase[\"fees\"] = coinbase[\"coinbase\"] - coinbase[\"rewards\"]\n",
    "\n",
    "    coinbase.plot(x=\"height\", y=[\"rewards\", \"fees\"], kind=\"area\", figsize=figsize, stacked=True)\n",
    "    set_legend(\"Type\")\n",
    "    set_x_axis_legend()\n",
    "    plt.xlabel(\"Height\")\n",
    "    plt.ylabel(\"Block rewards\")\n",
    "    plt.title(\"Coinbase reward per block\")\n",
    "\n",
    "\n",
    "show_coinbase()"
   ],
   "metadata": {
    "collapsed": false
   }
  },
  {
   "cell_type": "markdown",
   "source": [
    "## Block times"
   ],
   "metadata": {
    "collapsed": false
   }
  },
  {
   "cell_type": "code",
   "execution_count": null,
   "outputs": [],
   "source": [
    "def show_block_times():\n",
    "    times = pd.read_sql_query(sqla.text(\"\"\"\n",
    "SELECT\n",
    "    height,\n",
    "    (LEAD(time) OVER (ORDER BY height) - time) / 60.0 as block_time\n",
    "FROM blocks\n",
    "ORDER BY height;\n",
    "    \"\"\"), con)\n",
    "\n",
    "    times['difficulty_adjustment_period'] = (times['height'] // 2016).astype(str)\n",
    "\n",
    "    plt.figure(figsize=figsize)\n",
    "    sns.boxplot(x='difficulty_adjustment_period', y='block_time', data=times)\n",
    "    plt.xlabel('Difficulty adjustment period')\n",
    "    plt.ylabel('Block time')\n",
    "    plt.title('Block time by difficulty adjustment period')\n",
    "\n",
    "\n",
    "show_block_times()"
   ],
   "metadata": {
    "collapsed": false
   }
  },
  {
   "cell_type": "markdown",
   "source": [
    "## Block size"
   ],
   "metadata": {
    "collapsed": false
   }
  },
  {
   "cell_type": "code",
   "execution_count": null,
   "outputs": [],
   "source": [
    "def show_block_size():\n",
    "    coinbase = pd.read_sql_query(sqla.text(\"\"\"\n",
    "SELECT\n",
    "    height,\n",
    "    size,\n",
    "    weight\n",
    "FROM blocks\n",
    "ORDER BY height;\n",
    "    \"\"\"), con)\n",
    "\n",
    "    coinbase.plot(x=\"height\", y=[\"weight\", \"size\"], kind=\"line\", figsize=figsize, stacked=False)\n",
    "    set_legend(\"Type\")\n",
    "    set_x_axis_legend()\n",
    "    plt.xlabel(\"Height\")\n",
    "    plt.ylabel(\"Block size\")\n",
    "    plt.title(\"Block sizes\")\n",
    "\n",
    "\n",
    "show_block_size()"
   ],
   "metadata": {
    "collapsed": false
   }
  },
  {
   "cell_type": "markdown",
   "source": [
    "# UTXO set"
   ],
   "metadata": {
    "collapsed": false
   }
  },
  {
   "cell_type": "markdown",
   "source": [
    "## UTXO set growth"
   ],
   "metadata": {
    "collapsed": false
   }
  },
  {
   "cell_type": "code",
   "execution_count": null,
   "outputs": [],
   "source": [
    "def show_utxo_growth():\n",
    "    utxo = pd.read_sql_query(sqla.text(\"\"\"\n",
    "WITH txs AS (\n",
    "    -- TODO: make this a materialized view\n",
    "    SELECT\n",
    "        t.id,\n",
    "        t.txid,\n",
    "        t.block,\n",
    "        MAX(i.vin) + 1 AS vins,\n",
    "        MAX(o.vout) + 1 AS vouts\n",
    "    FROM transactions t\n",
    "        INNER JOIN inputs i ON t.id = i.tx\n",
    "        INNER JOIN outputs o ON t.id = o.tx\n",
    "    GROUP BY t.id, t.txid, t.block\n",
    ")\n",
    "SELECT\n",
    "    b.height,\n",
    "    SUM(t.vins) AS inputs,\n",
    "    SUM(t.vouts) AS outputs\n",
    "FROM blocks b\n",
    "    INNER JOIN txs t ON b.id = t.block\n",
    "GROUP BY b.height\n",
    "ORDER BY b.height;\n",
    "    \"\"\"), con)\n",
    "\n",
    "    utxo[\"delta\"] = utxo[\"outputs\"] - utxo[\"inputs\"]\n",
    "    utxo[\"delta_sum\"] = utxo[\"delta\"].cumsum()\n",
    "    print(utxo)\n",
    "\n",
    "    utxo.plot(x=\"height\", y=\"delta_sum\", kind=\"area\", stacked=False, legend=False, figsize=figsize)\n",
    "    set_x_axis_legend()\n",
    "    plt.xlabel(\"Height\")\n",
    "    plt.ylabel(\"UTXO set delta\")\n",
    "    plt.title(\"UTXO set growth\")\n",
    "\n",
    "\n",
    "show_utxo_growth()"
   ],
   "metadata": {
    "collapsed": false
   }
  },
  {
   "cell_type": "markdown",
   "source": [
    "# Outputs"
   ],
   "metadata": {
    "collapsed": false
   }
  },
  {
   "cell_type": "markdown",
   "source": [
    "## Output Types"
   ],
   "metadata": {
    "collapsed": false
   }
  },
  {
   "cell_type": "code",
   "execution_count": null,
   "metadata": {
    "collapsed": true
   },
   "outputs": [],
   "source": [
    "def show_output_types():\n",
    "    types = pd.read_sql_query(sqla.text(\"\"\"\n",
    "WITH txs AS (\n",
    "    SELECT\n",
    "        b.height AS block,\n",
    "        ot.name as type\n",
    "    FROM transactions t\n",
    "        INNER JOIN blocks b ON b.id = t.block\n",
    "        INNER JOIN outputs o ON t.id = o.tx\n",
    "        INNER JOIN output_types ot ON o.type = ot.id\n",
    "), txs_per_block AS (\n",
    "    SELECT\n",
    "        block,\n",
    "        COUNT(*) AS count\n",
    "    FROM txs\n",
    "    GROUP BY (block)\n",
    "), block_type_count AS (\n",
    "    SELECT\n",
    "        block,\n",
    "        type,\n",
    "        COUNT(*) AS count\n",
    "    FROM txs\n",
    "    GROUP BY (block, type)\n",
    ")\n",
    "SELECT\n",
    "    bt.block AS block,\n",
    "    type,\n",
    "    bt.count AS count,\n",
    "    (bt.count * 100) / tp.count::DOUBLE PRECISION AS percent\n",
    "FROM block_type_count bt\n",
    "    INNER JOIN txs_per_block tp ON bt.block = tp.block\n",
    "ORDER BY block, percent DESC;\n",
    "    \"\"\"), con)\n",
    "\n",
    "    pivot_df = types.pivot(index=\"block\", columns=\"type\", values=\"percent\")\n",
    "    pivot_df.plot(kind=\"area\", stacked=True, figsize=figsize)\n",
    "    set_x_axis_legend()\n",
    "    set_legend(\"Transaction types\")\n",
    "    plt.xlabel(\"Block\")\n",
    "    plt.ylabel(\"Percent\")\n",
    "    plt.title(\"Percent of output types per block\")\n",
    "\n",
    "\n",
    "show_output_types()"
   ]
  },
  {
   "cell_type": "markdown",
   "source": [
    "## Taproot adoption"
   ],
   "metadata": {
    "collapsed": false
   }
  },
  {
   "cell_type": "code",
   "execution_count": null,
   "outputs": [],
   "source": [
    "def show_taproot_percentage():\n",
    "    outputs = pd.read_sql_query(sqla.text(\"\"\"\n",
    "WITH taproot_output AS (\n",
    "    SELECT id\n",
    "    FROM output_types\n",
    "    WHERE name = 'witness_v1_taproot'\n",
    ")\n",
    "SELECT\n",
    "    b.height,\n",
    "    COUNT(*) outputs,\n",
    "    COUNT(*) FILTER (\n",
    "        WHERE o.type = (SELECT id FROM taproot_output)\n",
    "    ) taproot_outputs\n",
    "FROM blocks b\n",
    "    INNER JOIN transactions t ON b.id = t.block\n",
    "    INNER JOIN outputs o ON t.id = o.tx\n",
    "GROUP BY b.height\n",
    "ORDER by b.height;\n",
    "    \"\"\"), con)\n",
    "\n",
    "    outputs[\"percentage_taproot\"] = (outputs[\"taproot_outputs\"] * 100) / outputs[\"outputs\"]\n",
    "\n",
    "    outputs.plot(x=\"height\", y=\"percentage_taproot\", kind=\"area\", legend=False, figsize=figsize)\n",
    "    set_x_axis_legend()\n",
    "    plt.xlabel(\"Height\")\n",
    "    plt.ylabel(\"% Taproot outputs\")\n",
    "    plt.title(\"% of Taproot outputs per block\")\n",
    "\n",
    "\n",
    "show_taproot_percentage()"
   ],
   "metadata": {
    "collapsed": false
   }
  },
  {
   "cell_type": "markdown",
   "source": [
    "# Fee market"
   ],
   "metadata": {
    "collapsed": false
   }
  },
  {
   "cell_type": "markdown",
   "source": [
    "## Self transfer % of total weight"
   ],
   "metadata": {
    "collapsed": false
   }
  },
  {
   "cell_type": "code",
   "execution_count": null,
   "outputs": [],
   "source": [
    "def show_self_transfer():\n",
    "    self_transfer = pd.read_sql_query(sqla.text(\"\"\"\n",
    "WITH block_summary AS (\n",
    "    SELECT\n",
    "        b.height,\n",
    "        t.id,\n",
    "        SUM(t.weight) AS total_weight,\n",
    "        CASE\n",
    "            WHEN (SELECT COUNT(*) FROM inputs i WHERE t.id = i.tx) = 1\n",
    "                     AND (SELECT COUNT(*) FROM outputs o WHERE t.id = o.tx) = 1\n",
    "            THEN t.weight\n",
    "            ELSE 0\n",
    "        END AS self_transfer_weight\n",
    "    FROM transactions t\n",
    "        INNER JOIN blocks b ON b.id = t.block\n",
    "    GROUP BY (b.height, t.id)\n",
    ")\n",
    "SELECT\n",
    "    height,\n",
    "    (SUM(self_transfer_weight) * 100) /\n",
    "        SUM(total_weight)::DOUBLE PRECISION AS percent_self_transfer\n",
    "FROM block_summary\n",
    "GROUP BY height\n",
    "ORDER BY (height);\n",
    "    \"\"\"), con)\n",
    "\n",
    "    self_transfer.plot(\n",
    "        x=\"height\",\n",
    "        y=\"percent_self_transfer\",\n",
    "        kind=\"area\",\n",
    "        legend=False,\n",
    "        figsize=figsize\n",
    "    )\n",
    "    set_x_axis_legend()\n",
    "    plt.xlabel(\"Height\")\n",
    "    plt.ylabel(\"Self transfer %\")\n",
    "    plt.title(\"Self transfer % of total weight\")\n",
    "\n",
    "\n",
    "show_self_transfer()"
   ],
   "metadata": {
    "collapsed": false
   }
  }
 ],
 "metadata": {
  "kernelspec": {
   "display_name": "Python 3",
   "language": "python",
   "name": "python3"
  },
  "language_info": {
   "codemirror_mode": {
    "name": "ipython",
    "version": 2
   },
   "file_extension": ".py",
   "mimetype": "text/x-python",
   "name": "python",
   "nbconvert_exporter": "python",
   "pygments_lexer": "ipython2",
   "version": "2.7.6"
  }
 },
 "nbformat": 4,
 "nbformat_minor": 0
}
